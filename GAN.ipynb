{
  "nbformat": 4,
  "nbformat_minor": 0,
  "metadata": {
    "colab": {
      "name": "GAN.ipynb",
      "provenance": [],
      "collapsed_sections": [],
      "include_colab_link": true
    },
    "kernelspec": {
      "name": "python3",
      "display_name": "Python 3"
    }
  },
  "cells": [
    {
      "cell_type": "markdown",
      "metadata": {
        "id": "view-in-github",
        "colab_type": "text"
      },
      "source": [
        "<a href=\"https://colab.research.google.com/github/Ruanvans/GAN-time-series-implementation/blob/master/GAN.ipynb\" target=\"_parent\"><img src=\"https://colab.research.google.com/assets/colab-badge.svg\" alt=\"Open In Colab\"/></a>"
      ]
    },
    {
      "cell_type": "markdown",
      "metadata": {
        "id": "OQeLogIfAEdU",
        "colab_type": "text"
      },
      "source": [
        "**The following code will serve as the GAN network employed in my disseratation**\n",
        "\n",
        "**Ruan van Schalkwyk**                                                            \n",
        "**6459265**\n",
        "\n",
        "**Supervisor: Yoachu Jin** \n",
        "\n",
        "**University of Surrey Computer Science** \n"
      ]
    },
    {
      "cell_type": "code",
      "metadata": {
        "id": "tCQm-sxEADYW",
        "colab_type": "code",
        "colab": {}
      },
      "source": [
        ""
      ],
      "execution_count": 0,
      "outputs": []
    }
  ]
}