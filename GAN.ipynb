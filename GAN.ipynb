{
  "nbformat": 4,
  "nbformat_minor": 0,
  "metadata": {
    "colab": {
      "name": "GAN.ipynb",
      "provenance": [],
      "collapsed_sections": [],
      "toc_visible": true,
      "include_colab_link": true
    },
    "kernelspec": {
      "name": "python3",
      "display_name": "Python 3"
    }
  },
  "cells": [
    {
      "cell_type": "markdown",
      "metadata": {
        "id": "view-in-github",
        "colab_type": "text"
      },
      "source": [
        "<a href=\"https://colab.research.google.com/github/Ruanvans/GAN-time-series-implementation/blob/master/GAN.ipynb\" target=\"_parent\"><img src=\"https://colab.research.google.com/assets/colab-badge.svg\" alt=\"Open In Colab\"/></a>"
      ]
    },
    {
      "cell_type": "markdown",
      "metadata": {
        "id": "OQeLogIfAEdU",
        "colab_type": "text"
      },
      "source": [
        "**The following code will serve as the GAN network employed in my disseratation**\n",
        "\n",
        "**Ruan van Schalkwyk**                                                            \n",
        "**6459265**\n",
        "\n",
        "**Supervisor: Yoachu Jin** \n",
        "\n",
        "**University of Surrey Computer Science** \n"
      ]
    },
    {
      "cell_type": "markdown",
      "metadata": {
        "id": "DqhpDt_yqdho",
        "colab_type": "text"
      },
      "source": [
        "# **Necessary libraries and tools**"
      ]
    },
    {
      "cell_type": "code",
      "metadata": {
        "id": "05PZd-KBL_CB",
        "colab_type": "code",
        "colab": {}
      },
      "source": [
        "from google.colab import files\n",
        "import pandas as pd\n",
        "import requests \n",
        "import os\n",
        "import urllib.request\n",
        "import matplotlib.pyplot as plt\n",
        "from matplotlib import style"
      ],
      "execution_count": 0,
      "outputs": []
    },
    {
      "cell_type": "markdown",
      "metadata": {
        "id": "KnbXOPDG9_eN",
        "colab_type": "text"
      },
      "source": [
        "# **Data Collection**"
      ]
    },
    {
      "cell_type": "markdown",
      "metadata": {
        "id": "hEUnZxVNqjwz",
        "colab_type": "text"
      },
      "source": [
        "The below cells of code are used to retrieve the data used within the project from the AlphaVantage API. The first cell works directly with the API and the second cell is used to format the data into the correct format (csv file) and then downloads the data so that it can be cleaned for further use"
      ]
    },
    {
      "cell_type": "code",
      "metadata": {
        "id": "tCQm-sxEADYW",
        "colab_type": "code",
        "colab": {}
      },
      "source": [
        "Key = 'WS42XHAOBGP40QEM'\n",
        "sym= 'AAPL'\n",
        "\n",
        "fname = 'daily' + sym +'.csv'\n",
        "\n",
        "if not os.path.isfile(fname):\n",
        "  v = urllib.request.urlopen(\"https://www.alphavantage.co/query?function=TIME_SERIES_DAILY&symbol=\" + sym + \"&apikey=\" + Key + \"&outputsize=full&datatype=csv\").read()\n",
        "  with open(fname, 'wb') as f:\n",
        "    f.write(v)"
      ],
      "execution_count": 0,
      "outputs": []
    },
    {
      "cell_type": "code",
      "metadata": {
        "id": "lsNSfSYpIYtt",
        "colab_type": "code",
        "colab": {
          "base_uri": "https://localhost:8080/",
          "height": 404
        },
        "outputId": "7e734366-9b50-4f08-b57b-dc7ff4b311b4"
      },
      "source": [
        "df = pd.read_csv(fname)\n",
        "\n",
        "df = pd.DataFrame(df)\n",
        "\n",
        "df.to_csv('Apple.csv')\n",
        "files.download('Apple.csv')\n",
        "\n",
        "df"
      ],
      "execution_count": 57,
      "outputs": [
        {
          "output_type": "execute_result",
          "data": {
            "text/html": [
              "<div>\n",
              "<style scoped>\n",
              "    .dataframe tbody tr th:only-of-type {\n",
              "        vertical-align: middle;\n",
              "    }\n",
              "\n",
              "    .dataframe tbody tr th {\n",
              "        vertical-align: top;\n",
              "    }\n",
              "\n",
              "    .dataframe thead th {\n",
              "        text-align: right;\n",
              "    }\n",
              "</style>\n",
              "<table border=\"1\" class=\"dataframe\">\n",
              "  <thead>\n",
              "    <tr style=\"text-align: right;\">\n",
              "      <th></th>\n",
              "      <th>timestamp</th>\n",
              "      <th>open</th>\n",
              "      <th>high</th>\n",
              "      <th>low</th>\n",
              "      <th>close</th>\n",
              "      <th>volume</th>\n",
              "    </tr>\n",
              "  </thead>\n",
              "  <tbody>\n",
              "    <tr>\n",
              "      <th>0</th>\n",
              "      <td>2020-05-11</td>\n",
              "      <td>308.10</td>\n",
              "      <td>317.05</td>\n",
              "      <td>307.24</td>\n",
              "      <td>315.01</td>\n",
              "      <td>36486561</td>\n",
              "    </tr>\n",
              "    <tr>\n",
              "      <th>1</th>\n",
              "      <td>2020-05-08</td>\n",
              "      <td>305.64</td>\n",
              "      <td>310.35</td>\n",
              "      <td>304.29</td>\n",
              "      <td>310.13</td>\n",
              "      <td>33511985</td>\n",
              "    </tr>\n",
              "    <tr>\n",
              "      <th>2</th>\n",
              "      <td>2020-05-07</td>\n",
              "      <td>303.22</td>\n",
              "      <td>305.17</td>\n",
              "      <td>301.97</td>\n",
              "      <td>303.74</td>\n",
              "      <td>28803764</td>\n",
              "    </tr>\n",
              "    <tr>\n",
              "      <th>3</th>\n",
              "      <td>2020-05-06</td>\n",
              "      <td>300.46</td>\n",
              "      <td>303.24</td>\n",
              "      <td>298.87</td>\n",
              "      <td>300.63</td>\n",
              "      <td>35583438</td>\n",
              "    </tr>\n",
              "    <tr>\n",
              "      <th>4</th>\n",
              "      <td>2020-05-05</td>\n",
              "      <td>295.06</td>\n",
              "      <td>301.00</td>\n",
              "      <td>294.46</td>\n",
              "      <td>297.56</td>\n",
              "      <td>36937795</td>\n",
              "    </tr>\n",
              "    <tr>\n",
              "      <th>...</th>\n",
              "      <td>...</td>\n",
              "      <td>...</td>\n",
              "      <td>...</td>\n",
              "      <td>...</td>\n",
              "      <td>...</td>\n",
              "      <td>...</td>\n",
              "    </tr>\n",
              "    <tr>\n",
              "      <th>5027</th>\n",
              "      <td>2000-05-16</td>\n",
              "      <td>104.52</td>\n",
              "      <td>109.06</td>\n",
              "      <td>102.75</td>\n",
              "      <td>105.69</td>\n",
              "      <td>3932600</td>\n",
              "    </tr>\n",
              "    <tr>\n",
              "      <th>5028</th>\n",
              "      <td>2000-05-15</td>\n",
              "      <td>108.06</td>\n",
              "      <td>108.06</td>\n",
              "      <td>100.12</td>\n",
              "      <td>101.00</td>\n",
              "      <td>6061900</td>\n",
              "    </tr>\n",
              "    <tr>\n",
              "      <th>5029</th>\n",
              "      <td>2000-05-12</td>\n",
              "      <td>106.00</td>\n",
              "      <td>110.50</td>\n",
              "      <td>104.77</td>\n",
              "      <td>107.62</td>\n",
              "      <td>2740300</td>\n",
              "    </tr>\n",
              "    <tr>\n",
              "      <th>5030</th>\n",
              "      <td>2000-05-11</td>\n",
              "      <td>101.37</td>\n",
              "      <td>104.25</td>\n",
              "      <td>99.00</td>\n",
              "      <td>102.81</td>\n",
              "      <td>4462000</td>\n",
              "    </tr>\n",
              "    <tr>\n",
              "      <th>5031</th>\n",
              "      <td>2000-05-10</td>\n",
              "      <td>104.06</td>\n",
              "      <td>105.00</td>\n",
              "      <td>98.75</td>\n",
              "      <td>99.31</td>\n",
              "      <td>4777600</td>\n",
              "    </tr>\n",
              "  </tbody>\n",
              "</table>\n",
              "<p>5032 rows × 6 columns</p>\n",
              "</div>"
            ],
            "text/plain": [
              "       timestamp    open    high     low   close    volume\n",
              "0     2020-05-11  308.10  317.05  307.24  315.01  36486561\n",
              "1     2020-05-08  305.64  310.35  304.29  310.13  33511985\n",
              "2     2020-05-07  303.22  305.17  301.97  303.74  28803764\n",
              "3     2020-05-06  300.46  303.24  298.87  300.63  35583438\n",
              "4     2020-05-05  295.06  301.00  294.46  297.56  36937795\n",
              "...          ...     ...     ...     ...     ...       ...\n",
              "5027  2000-05-16  104.52  109.06  102.75  105.69   3932600\n",
              "5028  2000-05-15  108.06  108.06  100.12  101.00   6061900\n",
              "5029  2000-05-12  106.00  110.50  104.77  107.62   2740300\n",
              "5030  2000-05-11  101.37  104.25   99.00  102.81   4462000\n",
              "5031  2000-05-10  104.06  105.00   98.75   99.31   4777600\n",
              "\n",
              "[5032 rows x 6 columns]"
            ]
          },
          "metadata": {
            "tags": []
          },
          "execution_count": 57
        }
      ]
    },
    {
      "cell_type": "markdown",
      "metadata": {
        "id": "BkY5TsKXok0h",
        "colab_type": "text"
      },
      "source": [
        "# **Data preprocessign**"
      ]
    },
    {
      "cell_type": "markdown",
      "metadata": {
        "id": "H-zSQ757rEmo",
        "colab_type": "text"
      },
      "source": [
        "Below cell provides convenience when uploading the data as it is faster to upload a zip file with all the cleaned data to google colab than to upload individual files. "
      ]
    },
    {
      "cell_type": "code",
      "metadata": {
        "id": "LDBisaHHorG7",
        "colab_type": "code",
        "colab": {
          "base_uri": "https://localhost:8080/",
          "height": 117
        },
        "outputId": "3b6d1b50-3735-4c75-981f-ffdaeed5d1cf"
      },
      "source": [
        "!unzip 'data.zip'"
      ],
      "execution_count": 2,
      "outputs": [
        {
          "output_type": "stream",
          "text": [
            "Archive:  data.zip\n",
            "  inflating: Apple.csv               \n",
            "  inflating: CocaCola.csv            \n",
            "  inflating: JPMorgan.csv            \n",
            "  inflating: Microsoft.csv           \n",
            "  inflating: StarBucks.csv           \n"
          ],
          "name": "stdout"
        }
      ]
    },
    {
      "cell_type": "markdown",
      "metadata": {
        "id": "56sMZTXPrWgX",
        "colab_type": "text"
      },
      "source": [
        "importation of the data from the cleaned csv files"
      ]
    },
    {
      "cell_type": "code",
      "metadata": {
        "id": "xg92RVs5pJEq",
        "colab_type": "code",
        "colab": {}
      },
      "source": [
        "coca_cola = pd.read_csv('CocaCola.csv', parse_dates=True, index_col=0)\n",
        "apple = pd.read_csv('Apple.csv', parse_dates=True, index_col=0)\n",
        "jpmorgan = pd.read_csv('JPMorgan.csv', parse_dates=True, index_col=0)\n",
        "microsoft = pd.read_csv('Microsoft.csv', parse_dates=True, index_col=0)\n",
        "starbucks = pd.read_csv('StarBucks.csv', parse_dates=True, index_col=0)"
      ],
      "execution_count": 0,
      "outputs": []
    },
    {
      "cell_type": "code",
      "metadata": {
        "id": "wsR_WkF-rgFJ",
        "colab_type": "code",
        "colab": {
          "base_uri": "https://localhost:8080/",
          "height": 434
        },
        "outputId": "e7de1e1c-6325-4bf5-acec-635402f9b212"
      },
      "source": [
        "coca_cola"
      ],
      "execution_count": 51,
      "outputs": [
        {
          "output_type": "execute_result",
          "data": {
            "text/html": [
              "<div>\n",
              "<style scoped>\n",
              "    .dataframe tbody tr th:only-of-type {\n",
              "        vertical-align: middle;\n",
              "    }\n",
              "\n",
              "    .dataframe tbody tr th {\n",
              "        vertical-align: top;\n",
              "    }\n",
              "\n",
              "    .dataframe thead th {\n",
              "        text-align: right;\n",
              "    }\n",
              "</style>\n",
              "<table border=\"1\" class=\"dataframe\">\n",
              "  <thead>\n",
              "    <tr style=\"text-align: right;\">\n",
              "      <th></th>\n",
              "      <th>open</th>\n",
              "      <th>close</th>\n",
              "    </tr>\n",
              "    <tr>\n",
              "      <th>timestamp</th>\n",
              "      <th></th>\n",
              "      <th></th>\n",
              "    </tr>\n",
              "  </thead>\n",
              "  <tbody>\n",
              "    <tr>\n",
              "      <th>2020-01-31</th>\n",
              "      <td>58.97</td>\n",
              "      <td>58.40</td>\n",
              "    </tr>\n",
              "    <tr>\n",
              "      <th>2020-01-30</th>\n",
              "      <td>57.93</td>\n",
              "      <td>58.86</td>\n",
              "    </tr>\n",
              "    <tr>\n",
              "      <th>2020-01-29</th>\n",
              "      <td>57.00</td>\n",
              "      <td>57.01</td>\n",
              "    </tr>\n",
              "    <tr>\n",
              "      <th>2020-01-28</th>\n",
              "      <td>57.45</td>\n",
              "      <td>57.01</td>\n",
              "    </tr>\n",
              "    <tr>\n",
              "      <th>2020-01-27</th>\n",
              "      <td>57.21</td>\n",
              "      <td>57.48</td>\n",
              "    </tr>\n",
              "    <tr>\n",
              "      <th>...</th>\n",
              "      <td>...</td>\n",
              "      <td>...</td>\n",
              "    </tr>\n",
              "    <tr>\n",
              "      <th>2009-07-08</th>\n",
              "      <td>48.55</td>\n",
              "      <td>48.51</td>\n",
              "    </tr>\n",
              "    <tr>\n",
              "      <th>2009-07-07</th>\n",
              "      <td>48.73</td>\n",
              "      <td>48.64</td>\n",
              "    </tr>\n",
              "    <tr>\n",
              "      <th>2009-07-06</th>\n",
              "      <td>48.68</td>\n",
              "      <td>49.00</td>\n",
              "    </tr>\n",
              "    <tr>\n",
              "      <th>2009-07-02</th>\n",
              "      <td>48.77</td>\n",
              "      <td>48.90</td>\n",
              "    </tr>\n",
              "    <tr>\n",
              "      <th>2009-07-01</th>\n",
              "      <td>48.48</td>\n",
              "      <td>49.18</td>\n",
              "    </tr>\n",
              "  </tbody>\n",
              "</table>\n",
              "<p>2665 rows × 2 columns</p>\n",
              "</div>"
            ],
            "text/plain": [
              "             open  close\n",
              "timestamp               \n",
              "2020-01-31  58.97  58.40\n",
              "2020-01-30  57.93  58.86\n",
              "2020-01-29  57.00  57.01\n",
              "2020-01-28  57.45  57.01\n",
              "2020-01-27  57.21  57.48\n",
              "...           ...    ...\n",
              "2009-07-08  48.55  48.51\n",
              "2009-07-07  48.73  48.64\n",
              "2009-07-06  48.68  49.00\n",
              "2009-07-02  48.77  48.90\n",
              "2009-07-01  48.48  49.18\n",
              "\n",
              "[2665 rows x 2 columns]"
            ]
          },
          "metadata": {
            "tags": []
          },
          "execution_count": 51
        }
      ]
    },
    {
      "cell_type": "markdown",
      "metadata": {
        "id": "Vi3UeVMSrfkF",
        "colab_type": "text"
      },
      "source": [
        ""
      ]
    },
    {
      "cell_type": "code",
      "metadata": {
        "id": "4dS2s58NnPvf",
        "colab_type": "code",
        "colab": {
          "base_uri": "https://localhost:8080/",
          "height": 272
        },
        "outputId": "be42092e-78ed-4887-8b6f-a29b62d35167"
      },
      "source": [
        "apple['open'].plot()\n",
        "plt.show()"
      ],
      "execution_count": 58,
      "outputs": [
        {
          "output_type": "display_data",
          "data": {
            "image/png": "[encoded data removed]",
            "text/plain": [
              "<Figure size 432x288 with 1 Axes>"
            ]
          },
          "metadata": {
            "tags": []
          }
        }
      ]
    }
  ]
}